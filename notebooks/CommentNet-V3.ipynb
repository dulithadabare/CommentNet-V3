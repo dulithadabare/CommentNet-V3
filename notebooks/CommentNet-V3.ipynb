{
 "cells": [
  {
   "cell_type": "markdown",
   "metadata": {},
   "source": [
    "# CommentNet-V3 \n",
    "\n",
    "Welcome to the version 3 of CommentNet!\n",
    "\n",
    "First let's import the relevant packages.\n"
   ]
  },
  {
   "cell_type": "code",
   "execution_count": 1,
   "metadata": {},
   "outputs": [
    {
     "name": "stderr",
     "output_type": "stream",
     "text": [
      "Using TensorFlow backend.\n",
      "/Users/dulithadabare/anaconda3/envs/comment-net-nomkl/lib/python3.7/site-packages/tensorflow/python/framework/dtypes.py:516: FutureWarning: Passing (type, 1) or '1type' as a synonym of type is deprecated; in a future version of numpy, it will be understood as (type, (1,)) / '(1,)type'.\n",
      "  _np_qint8 = np.dtype([(\"qint8\", np.int8, 1)])\n",
      "/Users/dulithadabare/anaconda3/envs/comment-net-nomkl/lib/python3.7/site-packages/tensorflow/python/framework/dtypes.py:517: FutureWarning: Passing (type, 1) or '1type' as a synonym of type is deprecated; in a future version of numpy, it will be understood as (type, (1,)) / '(1,)type'.\n",
      "  _np_quint8 = np.dtype([(\"quint8\", np.uint8, 1)])\n",
      "/Users/dulithadabare/anaconda3/envs/comment-net-nomkl/lib/python3.7/site-packages/tensorflow/python/framework/dtypes.py:518: FutureWarning: Passing (type, 1) or '1type' as a synonym of type is deprecated; in a future version of numpy, it will be understood as (type, (1,)) / '(1,)type'.\n",
      "  _np_qint16 = np.dtype([(\"qint16\", np.int16, 1)])\n",
      "/Users/dulithadabare/anaconda3/envs/comment-net-nomkl/lib/python3.7/site-packages/tensorflow/python/framework/dtypes.py:519: FutureWarning: Passing (type, 1) or '1type' as a synonym of type is deprecated; in a future version of numpy, it will be understood as (type, (1,)) / '(1,)type'.\n",
      "  _np_quint16 = np.dtype([(\"quint16\", np.uint16, 1)])\n",
      "/Users/dulithadabare/anaconda3/envs/comment-net-nomkl/lib/python3.7/site-packages/tensorflow/python/framework/dtypes.py:520: FutureWarning: Passing (type, 1) or '1type' as a synonym of type is deprecated; in a future version of numpy, it will be understood as (type, (1,)) / '(1,)type'.\n",
      "  _np_qint32 = np.dtype([(\"qint32\", np.int32, 1)])\n",
      "/Users/dulithadabare/anaconda3/envs/comment-net-nomkl/lib/python3.7/site-packages/tensorflow/python/framework/dtypes.py:525: FutureWarning: Passing (type, 1) or '1type' as a synonym of type is deprecated; in a future version of numpy, it will be understood as (type, (1,)) / '(1,)type'.\n",
      "  np_resource = np.dtype([(\"resource\", np.ubyte, 1)])\n",
      "/Users/dulithadabare/anaconda3/envs/comment-net-nomkl/lib/python3.7/site-packages/tensorboard/compat/tensorflow_stub/dtypes.py:541: FutureWarning: Passing (type, 1) or '1type' as a synonym of type is deprecated; in a future version of numpy, it will be understood as (type, (1,)) / '(1,)type'.\n",
      "  _np_qint8 = np.dtype([(\"qint8\", np.int8, 1)])\n",
      "/Users/dulithadabare/anaconda3/envs/comment-net-nomkl/lib/python3.7/site-packages/tensorboard/compat/tensorflow_stub/dtypes.py:542: FutureWarning: Passing (type, 1) or '1type' as a synonym of type is deprecated; in a future version of numpy, it will be understood as (type, (1,)) / '(1,)type'.\n",
      "  _np_quint8 = np.dtype([(\"quint8\", np.uint8, 1)])\n",
      "/Users/dulithadabare/anaconda3/envs/comment-net-nomkl/lib/python3.7/site-packages/tensorboard/compat/tensorflow_stub/dtypes.py:543: FutureWarning: Passing (type, 1) or '1type' as a synonym of type is deprecated; in a future version of numpy, it will be understood as (type, (1,)) / '(1,)type'.\n",
      "  _np_qint16 = np.dtype([(\"qint16\", np.int16, 1)])\n",
      "/Users/dulithadabare/anaconda3/envs/comment-net-nomkl/lib/python3.7/site-packages/tensorboard/compat/tensorflow_stub/dtypes.py:544: FutureWarning: Passing (type, 1) or '1type' as a synonym of type is deprecated; in a future version of numpy, it will be understood as (type, (1,)) / '(1,)type'.\n",
      "  _np_quint16 = np.dtype([(\"quint16\", np.uint16, 1)])\n",
      "/Users/dulithadabare/anaconda3/envs/comment-net-nomkl/lib/python3.7/site-packages/tensorboard/compat/tensorflow_stub/dtypes.py:545: FutureWarning: Passing (type, 1) or '1type' as a synonym of type is deprecated; in a future version of numpy, it will be understood as (type, (1,)) / '(1,)type'.\n",
      "  _np_qint32 = np.dtype([(\"qint32\", np.int32, 1)])\n",
      "/Users/dulithadabare/anaconda3/envs/comment-net-nomkl/lib/python3.7/site-packages/tensorboard/compat/tensorflow_stub/dtypes.py:550: FutureWarning: Passing (type, 1) or '1type' as a synonym of type is deprecated; in a future version of numpy, it will be understood as (type, (1,)) / '(1,)type'.\n",
      "  np_resource = np.dtype([(\"resource\", np.ubyte, 1)])\n",
      "WARNING: Logging before flag parsing goes to stderr.\n",
      "W0818 14:47:55.275770 4613428672 __init__.py:71] TensorFlow version 1.14.0 detected. Last version known to be fully compatible is 1.13.1 .\n"
     ]
    }
   ],
   "source": [
    "import csv\n",
    "import string\n",
    "import numpy as np\n",
    "from sklearn.utils import shuffle\n",
    "from sklearn.metrics.pairwise import cosine_similarity\n",
    "from sklearn.metrics import f1_score\n",
    "from keras.models import Model\n",
    "from keras.layers import Dense, Input, Dropout, LSTM, Activation, Bidirectional, Concatenate, Dot, RepeatVector\n",
    "from keras.layers.embeddings import Embedding\n",
    "from keras.preprocessing import sequence\n",
    "from keras.initializers import glorot_uniform\n",
    "import keras.backend as K\n",
    "import coremltools\n",
    "import matplotlib.pyplot as plt"
   ]
  },
  {
   "cell_type": "markdown",
   "metadata": {},
   "source": [
    "# Preparing the data"
   ]
  },
  {
   "cell_type": "markdown",
   "metadata": {},
   "source": [
    "Next, let's process the data set.\n",
    "\n",
    "We will process the data set and create a new data set by removing punctuation and trimming the lines in the data set."
   ]
  },
  {
   "cell_type": "code",
   "execution_count": 2,
   "metadata": {},
   "outputs": [],
   "source": [
    "def process_data(file_list_with_labels, output='../data/data_set.txt', output_label = '../data/labels.txt'):\n",
    "    phrase = []\n",
    "    emoji = []\n",
    "\n",
    "    with open (output, 'w') as output_file, open(output_label, 'w') as label_file:\n",
    "        \n",
    "        for filename, label in file_list_with_labels:\n",
    "            print('Processing file: ', filename)\n",
    "            with open (filename) as f:\n",
    "                  for line in f:\n",
    "                    line = line.strip()\n",
    "                    if len(line)>0:\n",
    "                        table = str.maketrans({key: None for key in string.punctuation})\n",
    "                        line = line.translate(table)\n",
    "                        output_file.write(line + '\\r\\n')\n",
    "                        label_file.write(label + '\\r\\n')\n",
    "                        phrase.append(0)\n",
    "    "
   ]
  },
  {
   "cell_type": "markdown",
   "metadata": {},
   "source": [
    "Our data set files are in 3 separate sets of files.\n",
    "\n",
    "- troll data set and it's labels\n",
    "- constructive data set and it's labels\n",
    "- positive data set and it's labels\n",
    "\n",
    "We will process these 3 separate data sets and create one combined dataset and label set."
   ]
  },
  {
   "cell_type": "code",
   "execution_count": 3,
   "metadata": {},
   "outputs": [
    {
     "name": "stdout",
     "output_type": "stream",
     "text": [
      "Processing file:  ../data/troll.txt\n",
      "Processing file:  ../data/constructive.txt\n",
      "Processing file:  ../data/positive.txt\n"
     ]
    }
   ],
   "source": [
    "file_list_with_labels = []\n",
    "file_list_with_labels.append(('../data/troll.txt', '1'))\n",
    "file_list_with_labels.append(('../data/constructive.txt', '0'))\n",
    "file_list_with_labels.append(('../data/positive.txt', '0'))\n",
    "process_data(file_list_with_labels)"
   ]
  },
  {
   "cell_type": "markdown",
   "metadata": {},
   "source": [
    "Next, it's time to load the GloVe word embedding files."
   ]
  },
  {
   "cell_type": "code",
   "execution_count": 4,
   "metadata": {},
   "outputs": [],
   "source": [
    "def read_glove_vecs(glove_file):\n",
    "    with open(glove_file, 'r') as f, open('../data/glove_word_index.txt', 'w') as word_index_file:\n",
    "        words = set()\n",
    "        word_to_vec_map = {}\n",
    "        for line in f:\n",
    "            line = line.strip().split()\n",
    "            curr_word = line[0]\n",
    "            words.add(curr_word)\n",
    "            word_to_vec_map[curr_word] = np.array(line[1:], dtype=np.float64)\n",
    "        \n",
    "        i = 1\n",
    "        words_to_index = {}\n",
    "        index_to_words = {}\n",
    "        word_index = []\n",
    "        for w in sorted(words):\n",
    "            word_index.append(w + ' ' + str(i))\n",
    "            words_to_index[w] = i\n",
    "            index_to_words[i] = w\n",
    "            i = i + 1\n",
    "        \n",
    "        for line in word_index:\n",
    "            word_index_file.write(line + '\\n')\n",
    "    return words_to_index, index_to_words, word_to_vec_map, i"
   ]
  },
  {
   "cell_type": "code",
   "execution_count": 5,
   "metadata": {},
   "outputs": [],
   "source": [
    "word_to_index, index_to_word, word_to_vec_map, unknown_word_index = read_glove_vecs('../../../CommentNetData/glove.6B/glove.6B.50d.txt')"
   ]
  },
  {
   "cell_type": "markdown",
   "metadata": {},
   "source": [
    "Next, we will also read in a custom word embedding to be used for unkown word tokens."
   ]
  },
  {
   "cell_type": "code",
   "execution_count": 6,
   "metadata": {},
   "outputs": [],
   "source": [
    "def read_unknown_vecs(unknown_file):\n",
    "    \n",
    "    unknown_vector = None\n",
    "    \n",
    "    with open(unknown_file, 'r') as f:\n",
    "        for line in f:\n",
    "            line = line.strip().split()\n",
    "            unknown_vector = np.array(line[0:], dtype=np.float64)\n",
    "    \n",
    "    print('Unknown word vector is', unknown_vector.shape)\n",
    "\n",
    "    return unknown_vector"
   ]
  },
  {
   "cell_type": "code",
   "execution_count": 7,
   "metadata": {},
   "outputs": [
    {
     "name": "stdout",
     "output_type": "stream",
     "text": [
      "Unknown word vector is (50,)\n"
     ]
    }
   ],
   "source": [
    "unkown_word_vector = read_unknown_vecs('../data/unknown_word_vector.txt')"
   ]
  },
  {
   "cell_type": "code",
   "execution_count": 8,
   "metadata": {},
   "outputs": [
    {
     "name": "stdout",
     "output_type": "stream",
     "text": [
      "the index of ea in the vocabulary is 132265\n",
      "the 18th word in the vocabulary is #cccccc\n",
      "400001\n",
      "(1, 50)\n"
     ]
    },
    {
     "data": {
      "text/plain": [
       "array([[0.21020451]])"
      ]
     },
     "execution_count": 8,
     "metadata": {},
     "output_type": "execute_result"
    }
   ],
   "source": [
    "word = \"ea\"\n",
    "index = 18\n",
    "print(\"the index of\", word, \"in the vocabulary is\", word_to_index[word])\n",
    "print(\"the\", str(index) + \"th word in the vocabulary is\", index_to_word[index])\n",
    "print(unknown_word_index)\n",
    "print(word_to_vec_map[word].reshape(1, -1).shape)\n",
    "cosine_similarity(word_to_vec_map[\"bethesda\"].reshape(1, -1), word_to_vec_map[\"ea\"].reshape(1, -1))"
   ]
  },
  {
   "cell_type": "markdown",
   "metadata": {},
   "source": [
    "Now, let's load the data set and label set we processed in the previous cell."
   ]
  },
  {
   "cell_type": "code",
   "execution_count": 9,
   "metadata": {},
   "outputs": [],
   "source": [
    "def read_processed_data(data_set = '../data/data_set.txt', labels = '../data/labels.txt'):\n",
    "    \n",
    "    X = []\n",
    "    Y = []\n",
    "    \n",
    "    with open(data_set) as data_file:\n",
    "        for line in data_file:\n",
    "            line = line.strip()\n",
    "            if len(line) > 0:\n",
    "                X.append(line)\n",
    "    \n",
    "    with open(labels) as label_file:\n",
    "        for line in label_file:\n",
    "            line = line.strip()\n",
    "            if len(line) > 0:\n",
    "                Y.append(line)\n",
    "                \n",
    "    X = np.asarray(X)\n",
    "    Y = np.asarray(Y, dtype=int)\n",
    "    \n",
    "    return X, Y\n",
    "    "
   ]
  },
  {
   "cell_type": "code",
   "execution_count": 10,
   "metadata": {},
   "outputs": [],
   "source": [
    "X, Y = read_processed_data()"
   ]
  },
  {
   "cell_type": "code",
   "execution_count": 11,
   "metadata": {},
   "outputs": [
    {
     "name": "stdout",
     "output_type": "stream",
     "text": [
      "X :  150\n",
      "Y :  150\n"
     ]
    }
   ],
   "source": [
    "print('X : ', len(X))\n",
    "print('Y : ', len(Y))"
   ]
  },
  {
   "cell_type": "markdown",
   "metadata": {},
   "source": [
    "Let's shuffle the data set to mix the positive and negative examples."
   ]
  },
  {
   "cell_type": "code",
   "execution_count": 12,
   "metadata": {},
   "outputs": [
    {
     "name": "stdout",
     "output_type": "stream",
     "text": [
      "Sean Murray and Hello Games this silence is deafening 1\n"
     ]
    }
   ],
   "source": [
    "X, Y = shuffle(X, Y, random_state=0)\n",
    "print(X[len(X) - 1], Y[len(Y) - 1])"
   ]
  },
  {
   "cell_type": "markdown",
   "metadata": {},
   "source": [
    "Next, we need to find the maximum word count in a sentence in the data set. This value will be used for the masking operation in creating the word indices and will be used to determine the number of time steps in the model."
   ]
  },
  {
   "cell_type": "code",
   "execution_count": 13,
   "metadata": {},
   "outputs": [],
   "source": [
    "def find_max_len(X):\n",
    "    \n",
    "    max_len = 0\n",
    "    max_line = None\n",
    "    max_array = []\n",
    "    \n",
    "    \n",
    "    for line in X:\n",
    "        sentence_words =line.lower().split()\n",
    "        if len(sentence_words) > max_len:\n",
    "            max_len = len(sentence_words)\n",
    "            max_line = line \n",
    "            max_array = sentence_words\n",
    "    \n",
    "    print ('Max length is ', max_len)\n",
    "    print(max_line)\n",
    "    print(max_array)\n",
    "    \n",
    "    return max_len"
   ]
  },
  {
   "cell_type": "code",
   "execution_count": 14,
   "metadata": {},
   "outputs": [
    {
     "name": "stdout",
     "output_type": "stream",
     "text": [
      "Max length is  54\n",
      "Look guys Anthem is in a bad place right now but remember to be civil towards the devs They are people too and probably under a bit of stress right now Voice your feedback but be considerate and most of all remember there is an actual living person on the other side of it\n",
      "['look', 'guys', 'anthem', 'is', 'in', 'a', 'bad', 'place', 'right', 'now', 'but', 'remember', 'to', 'be', 'civil', 'towards', 'the', 'devs', 'they', 'are', 'people', 'too', 'and', 'probably', 'under', 'a', 'bit', 'of', 'stress', 'right', 'now', 'voice', 'your', 'feedback', 'but', 'be', 'considerate', 'and', 'most', 'of', 'all', 'remember', 'there', 'is', 'an', 'actual', 'living', 'person', 'on', 'the', 'other', 'side', 'of', 'it']\n"
     ]
    }
   ],
   "source": [
    "max_len = find_max_len(X)\n",
    "Tx = max_len"
   ]
  },
  {
   "cell_type": "code",
   "execution_count": 15,
   "metadata": {},
   "outputs": [],
   "source": [
    "def create_train_dev_test(X, Y, split):\n",
    "    \n",
    "    X, Y = shuffle(X, Y)\n",
    "    \n",
    "    mode = split[0]\n",
    "    \n",
    "    if mode == 'tt':\n",
    "        train_size, test_size = split[1]\n",
    "        \n",
    "        X_train = X[:train_size]\n",
    "        Y_train = Y[:train_size]\n",
    "    \n",
    "        X_test = X[train_size:]\n",
    "        Y_test = Y[train_size:]\n",
    "        \n",
    "        print('Size of test set : ', len(X_train))\n",
    "        print('Size of train set : ', len(X_test))\n",
    "    \n",
    "        result = (X_train, Y_train, X_test, Y_test)\n",
    "        \n",
    "    else:\n",
    "        \n",
    "        train_size, dev_size, test_size = split[1]\n",
    "        \n",
    "        X_train = X[:train_size]\n",
    "        Y_train = Y[:train_size]\n",
    "    \n",
    "        X_dev = X[train_size:train_size + dev_size]\n",
    "        Y_dev = Y[train_size:train_size + dev_size]\n",
    "    \n",
    "        X_test = X[train_size + dev_size:]\n",
    "        Y_test = Y[train_size + dev_size:]\n",
    "        \n",
    "        print('Size of test set : ', len(X_train))\n",
    "        print('Size of dev set : ', len(X_dev))\n",
    "        print('Size of train set : ', len(X_test))\n",
    "    \n",
    "        result = (X_train, Y_train, X_dev, Y_dev, X_test, Y_test)\n",
    "\n",
    "    \n",
    "    return result\n",
    "    "
   ]
  },
  {
   "cell_type": "code",
   "execution_count": 16,
   "metadata": {},
   "outputs": [
    {
     "name": "stdout",
     "output_type": "stream",
     "text": [
      "Size of test set :  100\n",
      "Size of dev set :  25\n",
      "Size of train set :  25\n"
     ]
    }
   ],
   "source": [
    "X_train, Y_train, X_dev, Y_dev, X_test, Y_test = create_train_dev_test(X, Y, ['tvt', (100, 25, 25)])"
   ]
  },
  {
   "cell_type": "code",
   "execution_count": 17,
   "metadata": {},
   "outputs": [
    {
     "name": "stdout",
     "output_type": "stream",
     "text": [
      "You binge in the visual arts but are scarce when it comes to storytelling 1\n"
     ]
    }
   ],
   "source": [
    "print(X_train[len(X_train) - 1], Y_train[len(Y_train) - 1])"
   ]
  },
  {
   "cell_type": "code",
   "execution_count": 18,
   "metadata": {},
   "outputs": [
    {
     "name": "stdout",
     "output_type": "stream",
     "text": [
      "Size of test set :  100\n",
      "Size of train set :  50\n"
     ]
    }
   ],
   "source": [
    "X_train, Y_train, X_test, Y_test = create_train_dev_test(X, Y, ['tt', (100, 50)])"
   ]
  },
  {
   "cell_type": "code",
   "execution_count": 19,
   "metadata": {},
   "outputs": [
    {
     "name": "stdout",
     "output_type": "stream",
     "text": [
      "(100,)\n"
     ]
    }
   ],
   "source": [
    "print(Y_train.shape)"
   ]
  },
  {
   "cell_type": "markdown",
   "metadata": {},
   "source": [
    "# Creating the Model"
   ]
  },
  {
   "cell_type": "markdown",
   "metadata": {},
   "source": [
    "Now, let's define the function to turn the sentences of the data set into word indices."
   ]
  },
  {
   "cell_type": "code",
   "execution_count": 20,
   "metadata": {},
   "outputs": [],
   "source": [
    "def sentences_to_indices(X, word_to_index, max_len, unknown_word_index):\n",
    "    \"\"\"\n",
    "    Converts an array of sentences (strings) into an array of indices corresponding to words in the sentences.\n",
    "    The output shape should be such that it can be given to `Embedding()` (described in Figure 4). \n",
    "    \n",
    "    Arguments:\n",
    "    X -- array of sentences (strings), of shape (m, 1)\n",
    "    word_to_index -- a dictionary containing the each word mapped to its index\n",
    "    max_len -- maximum number of words in a sentence. You can assume every sentence in X is no longer than this. \n",
    "    \n",
    "    Returns:\n",
    "    X_indices -- array of indices corresponding to words in the sentences from X, of shape (m, max_len)\n",
    "    \"\"\"\n",
    "    \n",
    "    m = X.shape[0]                                   # number of training examples\n",
    "    \n",
    "    ### START CODE HERE ###\n",
    "    # Initialize X_indices as a numpy matrix of zeros and the correct shape (≈ 1 line)\n",
    "    X_indices = np.zeros((m, max_len))\n",
    "    \n",
    "    for i in range(m):                               # loop over training examples\n",
    "        \n",
    "        # Convert the ith training sentence in lower case and split is into words. You should get a list of words.\n",
    "        sentence_words =X[i].lower().split()\n",
    "        \n",
    "        # Initialize j to 0\n",
    "        j = 0\n",
    "        \n",
    "        # Loop over the words of sentence_words\n",
    "        for w in sentence_words:\n",
    "            # Set the (i,j)th entry of X_indices to the index of the correct word.\n",
    "            if w in word_to_index:\n",
    "                X_indices[i, j] = word_to_index[w]\n",
    "                # Increment j to j + 1\n",
    "                j = j + 1\n",
    "            else:\n",
    "                X_indices[i, j] = unknown_word_index\n",
    "                j = j + 1\n",
    "            \n",
    "    ### END CODE HERE ###\n",
    "    \n",
    "    return X_indices"
   ]
  },
  {
   "cell_type": "markdown",
   "metadata": {},
   "source": [
    "We also need to feed our pre-trained word encodings into the Keras embedding layer. This function will take care of that."
   ]
  },
  {
   "cell_type": "code",
   "execution_count": 21,
   "metadata": {},
   "outputs": [],
   "source": [
    "def pretrained_embedding_layer(word_to_vec_map, word_to_index, unkown_word_vector, unknown_word_index):\n",
    "    \"\"\"\n",
    "    Creates a Keras Embedding() layer and loads in pre-trained GloVe 50-dimensional vectors.\n",
    "    \n",
    "    Arguments:\n",
    "    word_to_vec_map -- dictionary mapping words to their GloVe vector representation.\n",
    "    word_to_index -- dictionary mapping from words to their indices in the vocabulary (400,001 words)\n",
    "\n",
    "    Returns:\n",
    "    embedding_layer -- pretrained layer Keras instance\n",
    "    \"\"\"\n",
    "    \n",
    "    vocab_len = unknown_word_index + 1                  # adding 1 to fit Keras embedding (requirement)\n",
    "    emb_dim = word_to_vec_map[\"cucumber\"].shape[0]      # define dimensionality of your GloVe word vectors (= 50)\n",
    "    \n",
    "    ### START CODE HERE ###\n",
    "    # Initialize the embedding matrix as a numpy array of zeros of shape (vocab_len, dimensions of word vectors = emb_dim)\n",
    "    emb_matrix = np.zeros((vocab_len, emb_dim))\n",
    "    \n",
    "    # Set each row \"index\" of the embedding matrix to be the word vector representation of the \"index\"th word of the vocabulary\n",
    "    for word, index in word_to_index.items():\n",
    "        emb_matrix[index, :] = word_to_vec_map[word]\n",
    "    \n",
    "    emb_matrix[unknown_word_index, :] = unkown_word_vector\n",
    "\n",
    "    # Define Keras embedding layer with the correct output/input sizes, make it non-trainable. Use Embedding(...). Make sure to set trainable=False. \n",
    "    embedding_layer = Embedding(vocab_len, emb_dim, trainable=False)\n",
    "    ### END CODE HERE ###\n",
    "\n",
    "    # Build the embedding layer, it is required before setting the weights of the embedding layer. Do not modify the \"None\".\n",
    "    embedding_layer.build((None,))\n",
    "    \n",
    "    # Set the weights of the embedding layer to the embedding matrix. Your layer is now pretrained.\n",
    "    embedding_layer.set_weights([emb_matrix])\n",
    "    \n",
    "    return embedding_layer"
   ]
  },
  {
   "cell_type": "markdown",
   "metadata": {},
   "source": [
    "Define custom softmax function to be used in the Attention mechanism's alpha calculation step."
   ]
  },
  {
   "cell_type": "code",
   "execution_count": 22,
   "metadata": {},
   "outputs": [],
   "source": [
    "def softmax(x, axis=1):\n",
    "    \"\"\"Softmax activation function.\n",
    "    # Arguments\n",
    "        x : Tensor.\n",
    "        axis: Integer, axis along which the softmax normalization is applied.\n",
    "    # Returns\n",
    "        Tensor, output of softmax transformation.\n",
    "    # Raises\n",
    "        ValueError: In case `dim(x) == 1`.\n",
    "    \"\"\"\n",
    "    ndim = K.ndim(x)\n",
    "    if ndim == 2:\n",
    "        return K.softmax(x)\n",
    "    elif ndim > 2:\n",
    "        e = K.exp(x - K.max(x, axis=axis, keepdims=True))\n",
    "        s = K.sum(e, axis=axis, keepdims=True)\n",
    "        return e / s\n",
    "    else:\n",
    "        raise ValueError('Cannot apply softmax to a tensor that is 1D')"
   ]
  },
  {
   "cell_type": "markdown",
   "metadata": {},
   "source": [
    "Define global variables for the attention step"
   ]
  },
  {
   "cell_type": "code",
   "execution_count": 23,
   "metadata": {},
   "outputs": [
    {
     "name": "stderr",
     "output_type": "stream",
     "text": [
      "W0818 14:48:04.824707 4613428672 deprecation_wrapper.py:119] From /Users/dulithadabare/anaconda3/envs/comment-net-nomkl/lib/python3.7/site-packages/keras/backend/tensorflow_backend.py:74: The name tf.get_default_graph is deprecated. Please use tf.compat.v1.get_default_graph instead.\n",
      "\n"
     ]
    }
   ],
   "source": [
    "# Defined shared layers as global variables\n",
    "repeator = RepeatVector(Tx)\n",
    "concatenator = Concatenate(axis=-1)\n",
    "densor1 = Dense(10, activation = \"tanh\")\n",
    "densor2 = Dense(1, activation = \"relu\")\n",
    "activator = Activation(softmax, name='attention_weights') # We are nor using the custom softmax(axis = 1) loaded in this notebook\n",
    "dotor = Dot(axes = 1)"
   ]
  },
  {
   "cell_type": "markdown",
   "metadata": {},
   "source": [
    "The function to calculate the context for the each step in the final Bi-LSTM layer"
   ]
  },
  {
   "cell_type": "code",
   "execution_count": 24,
   "metadata": {},
   "outputs": [],
   "source": [
    "def one_step_attention(a, s_prev):\n",
    "    \"\"\"\n",
    "    Performs one step of attention: Outputs a context vector computed as a dot product of the attention weights\n",
    "    \"alphas\" and the hidden states \"a\" of the Bi-LSTM.\n",
    "    \n",
    "    Arguments:\n",
    "    a -- hidden state output of the Bi-LSTM, numpy-array of shape (m, Tx, n_a)\n",
    "    s_prev -- previous hidden state of the (post-attention) LSTM, numpy-array of shape (m, n_s)\n",
    "    \n",
    "    Returns:\n",
    "    context -- context vector, input of the next (post-attetion) LSTM cell\n",
    "    \"\"\"\n",
    "    \n",
    "    ### START CODE HERE ###\n",
    "    # Use repeator to repeat s_prev to be of shape (m, Tx, n_s) so that you can concatenate it with all hidden states \"a\" (≈ 1 line)\n",
    "    s_prev = repeator(s_prev)\n",
    "    # Use concatenator to concatenate a and s_prev on the last axis (≈ 1 line)\n",
    "    concat = concatenator([a, s_prev])\n",
    "    # Use densor1 to propagate concat through a small fully-connected neural network to compute the \"intermediate energies\" variable e. (≈1 lines)\n",
    "    e = densor1(concat)\n",
    "    # Use densor2 to propagate e through a small fully-connected neural network to compute the \"energies\" variable energies. (≈1 lines)\n",
    "    energies = densor2(e)\n",
    "    # Use \"activator\" on \"energies\" to compute the attention weights \"alphas\" (≈ 1 line)\n",
    "    alphas = activator(energies)\n",
    "    # Use dotor together with \"alphas\" and \"a\" to compute the context vector to be given to the next (post-attention) LSTM-cell (≈ 1 line)\n",
    "    context = dotor([alphas, a])\n",
    "    ### END CODE HERE ###\n",
    "    \n",
    "    return context"
   ]
  },
  {
   "cell_type": "markdown",
   "metadata": {},
   "source": [
    "Now that we have all the necessary parts, let's create the model."
   ]
  },
  {
   "cell_type": "code",
   "execution_count": 25,
   "metadata": {},
   "outputs": [],
   "source": [
    "def CommentNet(input_shape, word_to_vec_map, word_to_index, unkown_word_vector, unknown_word_index):\n",
    "    \"\"\"\n",
    "    Function creatiDabareng the Emojify-v2 model's graph.\n",
    "    \n",
    "    Arguments:\n",
    "    input_shape -- shape of the input, usually (max_len,)\n",
    "    word_to_vec_map -- dictionary mapping every word in a vocabulary into its 50-dimensional vector representation\n",
    "    word_to_index -- dictionary mapping from words to their indices in the vocabulary (400,001 words)\n",
    "\n",
    "    Returns:\n",
    "    model -- a model instance in Keras\n",
    "    \"\"\"\n",
    "    \n",
    "    ### START CODE HERE ###\n",
    "    # Define sentence_indices as the input of the graph, it should be of shape input_shape and dtype 'int32' (as it contains indices).\n",
    "    sentence_indices = Input(shape = input_shape, dtype = 'int32')\n",
    "    \n",
    "    # Create the embedding layer pretrained with GloVe Vectors (≈1 line)\n",
    "    embedding_layer = pretrained_embedding_layer(word_to_vec_map, word_to_index, unkown_word_vector, unknown_word_index)\n",
    "    \n",
    "    # Propagate sentence_indices through your embedding layer, you get back the embeddings\n",
    "    embeddings = embedding_layer(sentence_indices)   \n",
    "    \n",
    "    # Propagate the embeddings through an LSTM layer with 128-dimensional hidden state\n",
    "    # Be careful, the returned output should be a batch of sequences.\n",
    "    a = Bidirectional(LSTM(128, return_sequences = True), merge_mode = 'ave')(embeddings)\n",
    "    # Add dropout with a probability of 0.5\n",
    "    #X = Dropout(rate = 0.5)(X)\n",
    "    \n",
    "    s0 = Input(shape=(128,), name='s0')\n",
    "    c0 = Input(shape=(128,), name='c0')\n",
    "    s = s0\n",
    "    c = c0\n",
    "    \n",
    "    post_attention_Bi_LSTM_cell = LSTM(128, return_state = True)\n",
    "    \n",
    "    for t in range(1):\n",
    "        \n",
    "        context = one_step_attention(a, s)\n",
    "        \n",
    "        s, _, c = post_attention_Bi_LSTM_cell(context, initial_state = [s, c])\n",
    "        \n",
    "    \n",
    "    # Propagate X trough another LSTM layer with 128-dimensional hidden state\n",
    "    # Be careful, the returned output should be a single hidden state, not a batch of sequences.\n",
    "    \n",
    "    # Add dropout with a probability of 0.5\n",
    "    X = Dropout(rate = 0.5)(s)\n",
    "    # Propagate X through a Dense layer with softmax activation to get back a batch of 5-dimensional vectors.\n",
    "    X = Dense(1, activation='sigmoid')(X)\n",
    "    \n",
    "    # Create Model instance which converts sentence_indices into X.\n",
    "    model = Model(inputs = [sentence_indices, s0, c0], outputs = X)\n",
    "    \n",
    "    ### END CODE HERE ###\n",
    "    \n",
    "    return model"
   ]
  },
  {
   "cell_type": "code",
   "execution_count": 26,
   "metadata": {},
   "outputs": [
    {
     "name": "stderr",
     "output_type": "stream",
     "text": [
      "W0818 14:48:04.891263 4613428672 deprecation_wrapper.py:119] From /Users/dulithadabare/anaconda3/envs/comment-net-nomkl/lib/python3.7/site-packages/keras/backend/tensorflow_backend.py:517: The name tf.placeholder is deprecated. Please use tf.compat.v1.placeholder instead.\n",
      "\n",
      "W0818 14:48:05.660824 4613428672 deprecation_wrapper.py:119] From /Users/dulithadabare/anaconda3/envs/comment-net-nomkl/lib/python3.7/site-packages/keras/backend/tensorflow_backend.py:4138: The name tf.random_uniform is deprecated. Please use tf.random.uniform instead.\n",
      "\n",
      "W0818 14:48:05.680500 4613428672 deprecation_wrapper.py:119] From /Users/dulithadabare/anaconda3/envs/comment-net-nomkl/lib/python3.7/site-packages/keras/backend/tensorflow_backend.py:174: The name tf.get_default_session is deprecated. Please use tf.compat.v1.get_default_session instead.\n",
      "\n",
      "W0818 14:48:05.681317 4613428672 deprecation_wrapper.py:119] From /Users/dulithadabare/anaconda3/envs/comment-net-nomkl/lib/python3.7/site-packages/keras/backend/tensorflow_backend.py:181: The name tf.ConfigProto is deprecated. Please use tf.compat.v1.ConfigProto instead.\n",
      "\n",
      "W0818 14:48:06.754379 4613428672 deprecation.py:506] From /Users/dulithadabare/anaconda3/envs/comment-net-nomkl/lib/python3.7/site-packages/keras/backend/tensorflow_backend.py:3445: calling dropout (from tensorflow.python.ops.nn_ops) with keep_prob is deprecated and will be removed in a future version.\n",
      "Instructions for updating:\n",
      "Please use `rate` instead of `keep_prob`. Rate should be set to `rate = 1 - keep_prob`.\n"
     ]
    }
   ],
   "source": [
    "model = CommentNet((max_len,), word_to_vec_map, word_to_index, unkown_word_vector, unknown_word_index)"
   ]
  },
  {
   "cell_type": "code",
   "execution_count": 27,
   "metadata": {},
   "outputs": [
    {
     "name": "stdout",
     "output_type": "stream",
     "text": [
      "__________________________________________________________________________________________________\n",
      "Layer (type)                    Output Shape         Param #     Connected to                     \n",
      "==================================================================================================\n",
      "input_1 (InputLayer)            (None, 54)           0                                            \n",
      "__________________________________________________________________________________________________\n",
      "embedding_1 (Embedding)         (None, 54, 50)       20000100    input_1[0][0]                    \n",
      "__________________________________________________________________________________________________\n",
      "s0 (InputLayer)                 (None, 128)          0                                            \n",
      "__________________________________________________________________________________________________\n",
      "bidirectional_1 (Bidirectional) (None, 54, 128)      183296      embedding_1[0][0]                \n",
      "__________________________________________________________________________________________________\n",
      "repeat_vector_1 (RepeatVector)  (None, 54, 128)      0           s0[0][0]                         \n",
      "__________________________________________________________________________________________________\n",
      "concatenate_1 (Concatenate)     (None, 54, 256)      0           bidirectional_1[0][0]            \n",
      "                                                                 repeat_vector_1[0][0]            \n",
      "__________________________________________________________________________________________________\n",
      "dense_1 (Dense)                 (None, 54, 10)       2570        concatenate_1[0][0]              \n",
      "__________________________________________________________________________________________________\n",
      "dense_2 (Dense)                 (None, 54, 1)        11          dense_1[0][0]                    \n",
      "__________________________________________________________________________________________________\n",
      "attention_weights (Activation)  (None, 54, 1)        0           dense_2[0][0]                    \n",
      "__________________________________________________________________________________________________\n",
      "dot_1 (Dot)                     (None, 1, 128)       0           attention_weights[0][0]          \n",
      "                                                                 bidirectional_1[0][0]            \n",
      "__________________________________________________________________________________________________\n",
      "c0 (InputLayer)                 (None, 128)          0                                            \n",
      "__________________________________________________________________________________________________\n",
      "lstm_2 (LSTM)                   [(None, 128), (None, 131584      dot_1[0][0]                      \n",
      "                                                                 s0[0][0]                         \n",
      "                                                                 c0[0][0]                         \n",
      "__________________________________________________________________________________________________\n",
      "dropout_1 (Dropout)             (None, 128)          0           lstm_2[0][0]                     \n",
      "__________________________________________________________________________________________________\n",
      "dense_3 (Dense)                 (None, 1)            129         dropout_1[0][0]                  \n",
      "==================================================================================================\n",
      "Total params: 20,317,690\n",
      "Trainable params: 317,590\n",
      "Non-trainable params: 20,000,100\n",
      "__________________________________________________________________________________________________\n"
     ]
    }
   ],
   "source": [
    "model.summary()"
   ]
  },
  {
   "cell_type": "code",
   "execution_count": 28,
   "metadata": {},
   "outputs": [
    {
     "name": "stderr",
     "output_type": "stream",
     "text": [
      "W0818 14:48:06.803622 4613428672 deprecation_wrapper.py:119] From /Users/dulithadabare/anaconda3/envs/comment-net-nomkl/lib/python3.7/site-packages/keras/optimizers.py:790: The name tf.train.Optimizer is deprecated. Please use tf.compat.v1.train.Optimizer instead.\n",
      "\n",
      "W0818 14:48:06.828675 4613428672 deprecation.py:323] From /Users/dulithadabare/anaconda3/envs/comment-net-nomkl/lib/python3.7/site-packages/tensorflow/python/ops/nn_impl.py:180: add_dispatch_support.<locals>.wrapper (from tensorflow.python.ops.array_ops) is deprecated and will be removed in a future version.\n",
      "Instructions for updating:\n",
      "Use tf.where in 2.0, which has the same broadcast rule as np.where\n"
     ]
    }
   ],
   "source": [
    "model.compile(loss='binary_crossentropy', optimizer='adam', metrics=['accuracy'])"
   ]
  },
  {
   "cell_type": "code",
   "execution_count": 29,
   "metadata": {},
   "outputs": [],
   "source": [
    "X_train_indices = sentences_to_indices(X_train, word_to_index, max_len, unknown_word_index)"
   ]
  },
  {
   "cell_type": "code",
   "execution_count": 30,
   "metadata": {},
   "outputs": [
    {
     "name": "stdout",
     "output_type": "stream",
     "text": [
      "100\n",
      "No Mans Sky did to me what no shrink could ever do\n",
      "[262350. 233462. 334111. 123517. 360915. 239105. 386307. 262350. 330160.\n",
      " 110156. 141863. 126552.      0.      0.      0.      0.      0.      0.\n",
      "      0.      0.      0.      0.      0.      0.      0.      0.      0.\n",
      "      0.      0.      0.      0.      0.      0.      0.      0.      0.\n",
      "      0.      0.      0.      0.      0.      0.      0.      0.      0.\n",
      "      0.      0.      0.      0.      0.      0.      0.      0.      0.]\n"
     ]
    }
   ],
   "source": [
    "train_index = 60\n",
    "print(X_train.shape[0])\n",
    "print(X_train[train_index])\n",
    "print(X_train_indices[train_index])"
   ]
  },
  {
   "cell_type": "code",
   "execution_count": 31,
   "metadata": {},
   "outputs": [],
   "source": [
    "s0 = np.zeros((X_train.shape[0], 128))\n",
    "c0 = np.zeros((X_train.shape[0], 128))"
   ]
  },
  {
   "cell_type": "code",
   "execution_count": 32,
   "metadata": {},
   "outputs": [
    {
     "name": "stdout",
     "output_type": "stream",
     "text": [
      "Epoch 1/50\n",
      "100/100 [==============================] - 3s 25ms/step - loss: 0.6864 - acc: 0.6500\n",
      "Epoch 2/50\n",
      "100/100 [==============================] - 0s 3ms/step - loss: 0.6667 - acc: 0.7700\n",
      "Epoch 3/50\n",
      "100/100 [==============================] - 0s 3ms/step - loss: 0.6201 - acc: 0.7700\n",
      "Epoch 4/50\n",
      "100/100 [==============================] - 0s 3ms/step - loss: 0.5666 - acc: 0.7700\n",
      "Epoch 5/50\n",
      "100/100 [==============================] - 0s 3ms/step - loss: 0.5668 - acc: 0.7700\n",
      "Epoch 6/50\n",
      "100/100 [==============================] - 0s 3ms/step - loss: 0.5550 - acc: 0.7700\n",
      "Epoch 7/50\n",
      "100/100 [==============================] - 0s 3ms/step - loss: 0.5512 - acc: 0.7700\n",
      "Epoch 8/50\n",
      "100/100 [==============================] - 0s 3ms/step - loss: 0.5351 - acc: 0.7700\n",
      "Epoch 9/50\n",
      "100/100 [==============================] - 0s 3ms/step - loss: 0.5412 - acc: 0.7700\n",
      "Epoch 10/50\n",
      "100/100 [==============================] - 0s 3ms/step - loss: 0.5315 - acc: 0.7700\n",
      "Epoch 11/50\n",
      "100/100 [==============================] - 0s 3ms/step - loss: 0.5292 - acc: 0.7700\n",
      "Epoch 12/50\n",
      "100/100 [==============================] - 0s 3ms/step - loss: 0.5359 - acc: 0.7700\n",
      "Epoch 13/50\n",
      "100/100 [==============================] - 0s 3ms/step - loss: 0.5203 - acc: 0.7700\n",
      "Epoch 14/50\n",
      "100/100 [==============================] - 0s 3ms/step - loss: 0.5105 - acc: 0.7700\n",
      "Epoch 15/50\n",
      "100/100 [==============================] - 0s 3ms/step - loss: 0.5130 - acc: 0.7800\n",
      "Epoch 16/50\n",
      "100/100 [==============================] - 0s 3ms/step - loss: 0.5234 - acc: 0.8000\n",
      "Epoch 17/50\n",
      "100/100 [==============================] - 0s 3ms/step - loss: 0.5040 - acc: 0.8100\n",
      "Epoch 18/50\n",
      "100/100 [==============================] - 0s 3ms/step - loss: 0.5111 - acc: 0.7700\n",
      "Epoch 19/50\n",
      "100/100 [==============================] - 0s 3ms/step - loss: 0.5030 - acc: 0.7800\n",
      "Epoch 20/50\n",
      "100/100 [==============================] - 0s 3ms/step - loss: 0.4983 - acc: 0.7900\n",
      "Epoch 21/50\n",
      "100/100 [==============================] - 0s 3ms/step - loss: 0.4938 - acc: 0.8000\n",
      "Epoch 22/50\n",
      "100/100 [==============================] - 0s 3ms/step - loss: 0.4782 - acc: 0.8200\n",
      "Epoch 23/50\n",
      "100/100 [==============================] - 0s 3ms/step - loss: 0.4670 - acc: 0.8300\n",
      "Epoch 24/50\n",
      "100/100 [==============================] - 0s 3ms/step - loss: 0.4436 - acc: 0.8400\n",
      "Epoch 25/50\n",
      "100/100 [==============================] - 0s 3ms/step - loss: 0.4910 - acc: 0.8000\n",
      "Epoch 26/50\n",
      "100/100 [==============================] - 0s 3ms/step - loss: 0.4841 - acc: 0.8000\n",
      "Epoch 27/50\n",
      "100/100 [==============================] - 0s 3ms/step - loss: 0.4716 - acc: 0.8000\n",
      "Epoch 28/50\n",
      "100/100 [==============================] - 0s 3ms/step - loss: 0.4490 - acc: 0.8200\n",
      "Epoch 29/50\n",
      "100/100 [==============================] - 0s 3ms/step - loss: 0.4375 - acc: 0.8400\n",
      "Epoch 30/50\n",
      "100/100 [==============================] - 0s 3ms/step - loss: 0.4088 - acc: 0.8600\n",
      "Epoch 31/50\n",
      "100/100 [==============================] - 0s 3ms/step - loss: 0.4213 - acc: 0.8500\n",
      "Epoch 32/50\n",
      "100/100 [==============================] - 0s 3ms/step - loss: 0.4359 - acc: 0.8300\n",
      "Epoch 33/50\n",
      "100/100 [==============================] - 0s 3ms/step - loss: 0.4027 - acc: 0.8500\n",
      "Epoch 34/50\n",
      "100/100 [==============================] - 0s 3ms/step - loss: 0.3986 - acc: 0.8300\n",
      "Epoch 35/50\n",
      "100/100 [==============================] - 0s 3ms/step - loss: 0.3528 - acc: 0.8700\n",
      "Epoch 36/50\n",
      "100/100 [==============================] - 0s 3ms/step - loss: 0.3489 - acc: 0.8600\n",
      "Epoch 37/50\n",
      "100/100 [==============================] - 0s 3ms/step - loss: 0.3416 - acc: 0.8300\n",
      "Epoch 38/50\n",
      "100/100 [==============================] - 0s 3ms/step - loss: 0.3160 - acc: 0.8200\n",
      "Epoch 39/50\n",
      "100/100 [==============================] - 0s 3ms/step - loss: 0.2946 - acc: 0.9000\n",
      "Epoch 40/50\n",
      "100/100 [==============================] - 0s 3ms/step - loss: 0.2462 - acc: 0.8900\n",
      "Epoch 41/50\n",
      "100/100 [==============================] - 0s 3ms/step - loss: 0.2511 - acc: 0.9100\n",
      "Epoch 42/50\n",
      "100/100 [==============================] - 0s 3ms/step - loss: 0.2876 - acc: 0.9000\n",
      "Epoch 43/50\n",
      "100/100 [==============================] - 0s 3ms/step - loss: 0.2574 - acc: 0.8900\n",
      "Epoch 44/50\n",
      "100/100 [==============================] - 0s 3ms/step - loss: 0.1914 - acc: 0.8900\n",
      "Epoch 45/50\n",
      "100/100 [==============================] - 0s 3ms/step - loss: 0.1636 - acc: 0.9200\n",
      "Epoch 46/50\n",
      "100/100 [==============================] - 0s 3ms/step - loss: 0.1755 - acc: 0.9200\n",
      "Epoch 47/50\n",
      "100/100 [==============================] - 0s 3ms/step - loss: 0.1695 - acc: 0.9300\n",
      "Epoch 48/50\n",
      "100/100 [==============================] - 0s 3ms/step - loss: 0.2763 - acc: 0.8900\n",
      "Epoch 49/50\n",
      "100/100 [==============================] - 0s 3ms/step - loss: 0.1510 - acc: 0.9300\n",
      "Epoch 50/50\n",
      "100/100 [==============================] - 0s 3ms/step - loss: 0.1359 - acc: 0.9600\n"
     ]
    },
    {
     "data": {
      "text/plain": [
       "<keras.callbacks.History at 0x13a910b70>"
      ]
     },
     "execution_count": 32,
     "metadata": {},
     "output_type": "execute_result"
    }
   ],
   "source": [
    "model.fit([X_train_indices, s0, c0], Y_train, epochs = 50, batch_size = 32, shuffle=True)"
   ]
  },
  {
   "cell_type": "code",
   "execution_count": 33,
   "metadata": {},
   "outputs": [],
   "source": [
    "X_test_indices = sentences_to_indices(X_test, word_to_index, max_len, unknown_word_index)\n",
    "s0 = np.zeros((X_test_indices.shape[0], 128))\n",
    "c0 = np.zeros((X_test_indices.shape[0], 128))"
   ]
  },
  {
   "cell_type": "code",
   "execution_count": 34,
   "metadata": {},
   "outputs": [
    {
     "name": "stdout",
     "output_type": "stream",
     "text": [
      "50/50 [==============================] - 0s 8ms/step\n",
      "\n",
      "Test accuracy =  0.7400000095367432\n"
     ]
    }
   ],
   "source": [
    "loss, acc = model.evaluate([X_test_indices, s0, c0], Y_test)\n",
    "print()\n",
    "print(\"Test accuracy = \", acc)"
   ]
  },
  {
   "cell_type": "code",
   "execution_count": 35,
   "metadata": {},
   "outputs": [
    {
     "name": "stdout",
     "output_type": "stream",
     "text": [
      "0 : Anthem Endgame Loot Guide How to perfect your build in hours\n",
      "Expected label:0 Prediction:  1\n",
      "14 : I gotta give it up to uValseek for being around when the Crap hits the fan\n",
      "Expected label:0 Prediction:  1\n",
      "17 : More Objective Radar variations based on the original design\n",
      "Expected label:0 Prediction:  1\n",
      "20 : Less than 950 playing right now\n",
      "Expected label:1 Prediction:  0\n",
      "21 : PowerScaling Why Loot Doesnt Matter Anymore\n",
      "Expected label:0 Prediction:  1\n",
      "32 : BioWare  Can Colossus PLEASE get Shield Customization as our 4th armor Piece\n",
      "Expected label:0 Prediction:  1\n",
      "38 : Idea don’t just increase the size of the stash but make it upgradable with caps and rare resources\n",
      "Expected label:0 Prediction:  1\n",
      "39 : Argue with me all you want but Bethesda is actually trying and I can’t thank them enough\n",
      "Expected label:0 Prediction:  1\n",
      "42 : Reward structure issues and ideas\n",
      "Expected label:0 Prediction:  1\n",
      "45 : Share your support  thanks to Hello Games a company that could have just given up but instead they just keep giving\n",
      "Expected label:0 Prediction:  1\n",
      "47 : Bugs after Patch 10114\n",
      "Expected label:0 Prediction:  1\n",
      "48 : Ive compiled a list of all known bugs in Fallout 76 xpost rFallout\n",
      "Expected label:0 Prediction:  1\n",
      "49 : Mythbusters and mechanics not explicitly stated or clarified in the game anywhere\n",
      "Expected label:0 Prediction:  1\n",
      "Test count : 50\n",
      "Error count : 13\n",
      "F1 Score for Trolling:  0.8354430379746834\n",
      "Constructive feedback count :  16\n",
      "Predicted Constructive feedback count :  5\n",
      "F1 Score Constructive Feedback:  0.38095238095238093\n"
     ]
    }
   ],
   "source": [
    "X_test_indices = sentences_to_indices(X_test, word_to_index, max_len, unknown_word_index)\n",
    "pred = model.predict([X_test_indices, s0, c0])\n",
    "\n",
    "threshold = 0.5\n",
    "Y_pred = pred > threshold\n",
    "\n",
    "\n",
    "error_count = 0;\n",
    "for i in range(len(X_test)):\n",
    "    x = X_test_indices\n",
    "    if(Y_pred[i] != Y_test[i]):\n",
    "        error_count = error_count + 1\n",
    "        print( str(i) + ' : ' + X_test[i])\n",
    "        print('Expected label:'+ str(Y_test[i]) + ' Prediction: ' + ' ' + str( 1 if Y_pred[i] else 0))\n",
    "print('Test count : ' + str(len(X_test)))\n",
    "print('Error count : ' + str(error_count))\n",
    "\n",
    "print('F1 Score for Trolling: ', f1_score(Y_test, Y_pred))\n",
    "\n",
    "Y_test_inv = np.invert(Y_test > 0).reshape(-1,1)\n",
    "Y_pred_inv = np.invert(Y_pred).reshape(-1,1)\n",
    "\n",
    "print('Constructive feedback count : ', np.sum(Y_test_inv))\n",
    "print('Predicted Constructive feedback count : ', np.sum(Y_pred_inv))\n",
    "print('F1 Score Constructive Feedback: ', f1_score(Y_test_inv, Y_pred_inv))"
   ]
  },
  {
   "cell_type": "code",
   "execution_count": 36,
   "metadata": {},
   "outputs": [
    {
     "name": "stdout",
     "output_type": "stream",
     "text": [
      "[119292.  74527. 126848. 264550. 176551. 357266. 144588. 106074.      0.\n",
      "      0.      0.      0.      0.      0.      0.      0.      0.      0.\n",
      "      0.      0.      0.      0.      0.      0.      0.      0.      0.\n",
      "      0.      0.      0.      0.      0.      0.      0.      0.      0.\n",
      "      0.      0.      0.      0.      0.      0.      0.      0.      0.\n",
      "      0.      0.      0.      0.      0.      0.      0.      0.      0.]\n",
      "1 : Defending Bethesda does not help the Fallout community\n",
      "Expected label:1 Prediction:  [ True]\n",
      "[ 90548. 384374. 286531. 200035. 174642.  43010. 108628. 270193. 295922.\n",
      " 157049.      0.      0.      0.      0.      0.      0.      0.      0.\n",
      "      0.      0.      0.      0.      0.      0.      0.      0.      0.\n",
      "      0.      0.      0.      0.      0.      0.      0.      0.      0.\n",
      "      0.      0.      0.      0.      0.      0.      0.      0.      0.\n",
      "      0.      0.      0.      0.      0.      0.      0.      0.      0.]\n",
      "2 : Can we please just have a coop online PvE game\n",
      "Expected label:1 Prediction:  [ True]\n",
      "[ 76699.  62065. 358160. 287479. 394475.  58997.  54273. 136156. 360915.\n",
      " 357266. 157151. 389938.      0.      0.      0.      0.      0.      0.\n",
      "      0.      0.      0.      0.      0.      0.      0.      0.      0.\n",
      "      0.      0.      0.      0.      0.      0.      0.      0.      0.\n",
      "      0.      0.      0.      0.      0.      0.      0.      0.      0.\n",
      "      0.      0.      0.      0.      0.      0.      0.      0.      0.]\n",
      "3 : BioWare at this point you are an embarrassment to the Gaming world\n",
      "Expected label:1 Prediction:  [ True]\n",
      "[132265. 344148. 373317. 222041.  44608. 131001.      0.      0.      0.\n",
      "      0.      0.      0.      0.      0.      0.      0.      0.      0.\n",
      "      0.      0.      0.      0.      0.      0.      0.      0.      0.\n",
      "      0.      0.      0.      0.      0.      0.      0.      0.      0.\n",
      "      0.      0.      0.      0.      0.      0.      0.      0.      0.\n",
      "      0.      0.      0.      0.      0.      0.      0.      0.      0.]\n",
      "4 : EA straight up lied about duplicates\n",
      "Expected label:1 Prediction:  [ True]\n",
      "[119292.  65963. 279457. 218212. 313143. 357266. 155653. 268046. 279457.\n",
      " 157151.      0.      0.      0.      0.      0.      0.      0.      0.\n",
      "      0.      0.      0.      0.      0.      0.      0.      0.      0.\n",
      "      0.      0.      0.      0.      0.      0.      0.      0.      0.\n",
      "      0.      0.      0.      0.      0.      0.      0.      0.      0.\n",
      "      0.      0.      0.      0.      0.      0.      0.      0.      0.]\n",
      "5 : Defending bad PC launches ruins the future of PC gaming\n",
      "Expected label:1 Prediction:  [ True]\n",
      "[394475.  69897. 188481. 218763. 154323. 332120. 118605. 360915. 221115.\n",
      " 121839.      0.      0.      0.      0.      0.      0.      0.      0.\n",
      "      0.      0.      0.      0.      0.      0.      0.      0.      0.\n",
      "      0.      0.      0.      0.      0.      0.      0.      0.      0.\n",
      "      0.      0.      0.      0.      0.      0.      0.      0.      0.\n",
      "      0.      0.      0.      0.      0.      0.      0.      0.      0.]\n",
      "6 : You bask in laziness from simple decals to level design\n",
      "Expected label:1 Prediction:  [ True]\n",
      "[185457. 388583. 185457. 259914. 348218.  56280.  88126.  87992. 357266.\n",
      " 157049.      0.      0.      0.      0.      0.      0.      0.      0.\n",
      "      0.      0.      0.      0.      0.      0.      0.      0.      0.\n",
      "      0.      0.      0.      0.      0.      0.      0.      0.      0.\n",
      "      0.      0.      0.      0.      0.      0.      0.      0.      0.\n",
      "      0.      0.      0.      0.      0.      0.      0.      0.      0.]\n",
      "7 : I wish I never supported Anthem by buying the game\n",
      "Expected label:1 Prediction:  [ True]\n",
      "[185457. 209645. 357652.  43010. 225985. 163745. 269798. 308561. 264937.\n",
      "  87775. 384374. 119370. 258451. 137256. 384426. 307115. 137938.      0.\n",
      "      0.      0.      0.      0.      0.      0.      0.      0.      0.\n",
      "      0.      0.      0.      0.      0.      0.      0.      0.      0.\n",
      "      0.      0.      0.      0.      0.      0.      0.      0.      0.\n",
      "      0.      0.      0.      0.      0.      0.      0.      0.      0.]\n",
      "8 : I know theres a lot going on right now but we definitely need energy weapons revamped entirely\n",
      "Expected label:0 Prediction:  [False]\n",
      "[ 90548. 384374. 343812. 400001. 141950.  54718. 237426. 193637. 272930.\n",
      " 337259. 225289.  64276.  86248.      0.      0.      0.      0.      0.\n",
      "      0.      0.      0.      0.      0.      0.      0.      0.      0.\n",
      "      0.      0.      0.      0.      0.      0.      0.      0.      0.\n",
      "      0.      0.      0.      0.      0.      0.      0.      0.      0.\n",
      "      0.      0.      0.      0.      0.      0.      0.      0.      0.]\n",
      "9 : Can we stop nerfing everything and maybe issue out some long awaited buffs\n",
      "Expected label:1 Prediction:  [ True]\n",
      "[ 57187. 135869. 357970. 358160. 157049. 192973. 127853.  54718. 400001.\n",
      " 121794.  51582. 357266. 174339. 185457. 239170. 267359. 357965. 258451.\n",
      " 360915.  71090. 149340.  87775.  88126. 262350. 239197. 192973. 358160.\n",
      " 157049. 313137.      0.      0.      0.      0.      0.      0.      0.\n",
      "      0.      0.      0.      0.      0.      0.      0.      0.      0.\n",
      "      0.      0.      0.      0.      0.      0.      0.      0.      0.]\n",
      "10 : Anyone else think this game is dope and doesn’t deserve all the hate I mean obviously things need to be fixed but by no means is this game ruined\n",
      "Expected label:0 Prediction:  [False]\n",
      "[ 90548. 384374. 264550. 290559. 123393.  54718. 132265. 386424. 357810.\n",
      " 189556. 149328. 358160. 386897. 108327.      0.      0.      0.      0.\n",
      "      0.      0.      0.      0.      0.      0.      0.      0.      0.\n",
      "      0.      0.      0.      0.      0.      0.      0.      0.      0.\n",
      "      0.      0.      0.      0.      0.      0.      0.      0.      0.\n",
      "      0.      0.      0.      0.      0.      0.      0.      0.      0.]\n",
      "11 : Can we NOT praise DICE and EA when they inevitably fix this whole controversy\n",
      "Expected label:1 Prediction:  [ True]\n",
      "[323393.  43010. 225985. 268046. 289786.  44608. 286421. 105730.  65680.\n",
      " 360915. 357266. 157049.  54718. 264937. 226371. 193716. 299527. 394565.\n",
      " 172466. 186645. 394475. 259914. 219577.  71494. 400001.  52879. 226298.\n",
      " 357266. 157049.      0.      0.      0.      0.      0.      0.      0.\n",
      "      0.      0.      0.      0.      0.      0.      0.      0.      0.\n",
      "      0.      0.      0.      0.      0.      0.      0.      0.      0.]\n",
      "12 : Seeing a lot of posts about players coming back to the game and now loving it Raise your hand if you never left because youve always loved the game\n",
      "Expected label:0 Prediction:  [False]\n",
      "[ 56280. 192973.  54273.  45919. 319985.      0.      0.      0.      0.\n",
      "      0.      0.      0.      0.      0.      0.      0.      0.      0.\n",
      "      0.      0.      0.      0.      0.      0.      0.      0.      0.\n",
      "      0.      0.      0.      0.      0.      0.      0.      0.      0.\n",
      "      0.      0.      0.      0.      0.      0.      0.      0.      0.\n",
      "      0.      0.      0.      0.      0.      0.      0.      0.      0.]\n",
      "13 : Anthem is an actual scam\n",
      "Expected label:1 Prediction:  [ True]\n",
      "[400001. 153443. 360915. 286375.  58997. 394475. 120978.      0.      0.\n",
      "      0.      0.      0.      0.      0.      0.      0.      0.      0.\n",
      "      0.      0.      0.      0.      0.      0.      0.      0.      0.\n",
      "      0.      0.      0.      0.      0.      0.      0.      0.      0.\n",
      "      0.      0.      0.      0.      0.      0.      0.      0.      0.\n",
      "      0.      0.      0.      0.      0.      0.      0.      0.      0.]\n",
      "15 : FO76 free to play Are you dense\n",
      "Expected label:1 Prediction:  [ True]\n",
      "[394475. 108153. 360915. 190879. 374021.  88126. 293484. 221998.  47798.\n",
      " 221998. 111453.  54273.  63245. 268046. 125845.      0.      0.      0.\n",
      "      0.      0.      0.      0.      0.      0.      0.      0.      0.\n",
      "      0.      0.      0.      0.      0.      0.      0.      0.      0.\n",
      "      0.      0.      0.      0.      0.      0.      0.      0.      0.\n",
      "      0.      0.      0.      0.      0.      0.      0.      0.      0.]\n",
      "16 : You continue to insult us by propagating lie after lie creating an aura of distrust\n",
      "Expected label:1 Prediction:  [ True]\n",
      "[ 41112. 117967. 268046. 331640. 154323. 176468. 157111.  44608. 357354.\n",
      " 157049. 322741. 253355. 386112. 105625. 360915.  68890.      0.      0.\n",
      "      0.      0.      0.      0.      0.      0.      0.      0.      0.\n",
      "      0.      0.      0.      0.      0.      0.      0.      0.      0.\n",
      "      0.      0.      0.      0.      0.      0.      0.      0.      0.\n",
      "      0.      0.      0.      0.      0.      0.      0.      0.      0.]\n",
      "18 : 90 Days of silence from Hello Games about their game Sean Murray weve come to bargain\n",
      "Expected label:1 Prediction:  [ True]\n",
      "[220930.  71090. 281283. 102471. 177231. 132265. 192973.   5382.  62065.\n",
      " 145731. 151349. 357266. 341956. 268046. 357266. 157049. 264550. 157109.\n",
      "      0.      0.      0.      0.      0.      0.      0.      0.      0.\n",
      "      0.      0.      0.      0.      0.      0.      0.      0.      0.\n",
      "      0.      0.      0.      0.      0.      0.      0.      0.      0.\n",
      "      0.      0.      0.      0.      0.      0.      0.      0.      0.]\n",
      "19 : Lets be perfectly clear here EA is 100 at fault for the state of the game not gamers\n",
      "Expected label:1 Prediction:  [ True]\n",
      "[394475. 259914. 142852. 357266. 239295. 268046. 394565. 157049. 359056.\n",
      " 384374.  58997. 151413. 360915. 339116.  54718.  58997. 219577. 130647.\n",
      "      0.      0.      0.      0.      0.      0.      0.      0.      0.\n",
      "      0.      0.      0.      0.      0.      0.      0.      0.      0.\n",
      "      0.      0.      0.      0.      0.      0.      0.      0.      0.\n",
      "      0.      0.      0.      0.      0.      0.      0.      0.      0.]\n",
      "22 : You never explain the mechanics of your game thus we are forced to speculate and are left dumbfounded\n",
      "Expected label:1 Prediction:  [ True]\n",
      "[169754. 357266. 231068. 292794. 177231. 192973. 357212. 293190. 192973.\n",
      " 359469. 360915. 309704. 394475. 132451. 264612. 151349.  43010. 102208.\n",
      "  88126.  45929. 286442. 357212. 102208.      0.      0.      0.      0.\n",
      "      0.      0.      0.      0.      0.      0.      0.      0.      0.\n",
      "      0.      0.      0.      0.      0.      0.      0.      0.      0.\n",
      "      0.      0.      0.      0.      0.      0.      0.      0.      0.]\n",
      "23 : Guys the MAIN PROBLEM here is that progression is tied to RNG You earn nothing for a class by actually playing that class\n",
      "Expected label:1 Prediction:  [ True]\n",
      "[394475. 136929. 108628. 286375.  87775. 151407.  54273. 138116. 386474.\n",
      " 192973. 122561. 268046.  57170. 239197. 268046. 106043.      0.      0.\n",
      "      0.      0.      0.      0.      0.      0.      0.      0.      0.\n",
      "      0.      0.      0.      0.      0.      0.      0.      0.      0.\n",
      "      0.      0.      0.      0.      0.      0.      0.      0.      0.\n",
      "      0.      0.      0.      0.      0.      0.      0.      0.      0.]\n",
      "24 : You encourage coop play but force an environment which is devoid of any means of communication\n",
      "Expected label:1 Prediction:  [ True]\n",
      "[394475. 307133. 394565.  60105. 188481.  43010. 215502. 268046.  57598.\n",
      " 270970.  46701. 268046. 357266. 157111. 155243. 193642.      0.      0.\n",
      "      0.      0.      0.      0.      0.      0.      0.      0.      0.\n",
      "      0.      0.      0.      0.      0.      0.      0.      0.      0.\n",
      "      0.      0.      0.      0.      0.      0.      0.      0.      0.\n",
      "      0.      0.      0.      0.      0.      0.      0.      0.      0.]\n",
      "25 : You reveal your arrogance in a lack of apology or admission of the games fundamental issues\n",
      "Expected label:1 Prediction:  [ True]\n",
      "[223704. 141960. 357810. 319691. 357810. 149340. 192973.  84723.      0.\n",
      "      0.      0.      0.      0.      0.      0.      0.      0.      0.\n",
      "      0.      0.      0.      0.      0.      0.      0.      0.      0.\n",
      "      0.      0.      0.      0.      0.      0.      0.      0.      0.\n",
      "      0.      0.      0.      0.      0.      0.      0.      0.      0.\n",
      "      0.      0.      0.      0.      0.      0.      0.      0.      0.]\n",
      "26 : Literally eveything they say they fixed is broken\n",
      "Expected label:1 Prediction:  [ True]\n",
      "[270501. 220941. 360915.  74527. 157049. 345181. 394475.  58997.  83369.\n",
      " 357266. 164431. 268046. 394565. 286410.  69709. 145491. 357109. 394475.\n",
      "  58997. 149363. 193716.      0.      0.      0.      0.      0.      0.\n",
      "      0.      0.      0.      0.      0.      0.      0.      0.      0.\n",
      "      0.      0.      0.      0.      0.      0.      0.      0.      0.\n",
      "      0.      0.      0.      0.      0.      0.      0.      0.      0.]\n",
      "27 : Open letter to Bethesda Game Studios You are breaking the goodwill of your player base faster than you are fixing it\n",
      "Expected label:1 Prediction:  [ True]\n",
      "[137680. 388711. 357266. 144617.  47057.  74527.      0.      0.      0.\n",
      "      0.      0.      0.      0.      0.      0.      0.      0.      0.\n",
      "      0.      0.      0.      0.      0.      0.      0.      0.      0.\n",
      "      0.      0.      0.      0.      0.      0.      0.      0.      0.\n",
      "      0.      0.      0.      0.      0.      0.      0.      0.      0.\n",
      "      0.      0.      0.      0.      0.      0.      0.      0.      0.]\n",
      "28 : Enough with the false advertising Bethesda\n",
      "Expected label:1 Prediction:  [ True]\n",
      "[188481. 358160. 157049. 185457. 400001. 146662. 319039. 388711.  57170.\n",
      " 268046. 254258. 388345. 393705. 126848.  57178. 135869. 383068. 358160.\n",
      " 190756.      0.      0.      0.      0.      0.      0.      0.      0.\n",
      "      0.      0.      0.      0.      0.      0.      0.      0.      0.\n",
      "      0.      0.      0.      0.      0.      0.      0.      0.      0.\n",
      "      0.      0.      0.      0.      0.      0.      0.      0.      0.]\n",
      "29 : In this game I haven’t felt satisfied with any of my wins yet Does anybody else want this instead\n",
      "Expected label:1 Prediction:  [ True]\n",
      "[394475. 102496. 174642. 262350. 188748. 270970. 129440. 360915. 188386.\n",
      " 358160. 157049.  88126. 125973. 306496. 360915. 272583. 293244.      0.\n",
      "      0.      0.      0.      0.      0.      0.      0.      0.      0.\n",
      "      0.      0.      0.      0.      0.      0.      0.      0.      0.\n",
      "      0.      0.      0.      0.      0.      0.      0.      0.      0.\n",
      "      0.      0.      0.      0.      0.      0.      0.      0.      0.]\n",
      "30 : You clearly have no incentive or drive to improve this game by diverging resources to other projects\n",
      "Expected label:1 Prediction:  [ True]\n",
      "[360915.  76699. 142492. 218973. 394475. 343645.  43010. 386897. 225985.\n",
      " 268046. 248489. 154323. 374021.  54718. 384374. 121794.  43010. 302292.\n",
      "  54718.  90735. 306549.  44608. 182540. 394568. 163745. 360915. 367635.\n",
      " 358160. 329046.  59937.      0.      0.      0.      0.      0.      0.\n",
      "      0.      0.      0.      0.      0.      0.      0.      0.      0.\n",
      "      0.      0.      0.      0.      0.      0.      0.      0.      0.]\n",
      "31 : To BioWare Executive Leadership You stole a whole lot of money from us and we deserve a real and candid response about how youre going to turn this ship around\n",
      "Expected label:1 Prediction:  [ True]\n",
      "[400001. 337914.  87775. 358160. 157049. 258481.  43010. 337083. 247377.\n",
      "      0.      0.      0.      0.      0.      0.      0.      0.      0.\n",
      "      0.      0.      0.      0.      0.      0.      0.      0.      0.\n",
      "      0.      0.      0.      0.      0.      0.      0.      0.      0.\n",
      "      0.      0.      0.      0.      0.      0.      0.      0.      0.\n",
      "      0.      0.      0.      0.      0.      0.      0.      0.      0.]\n",
      "33 : I’m sorry but this game needs a solo mode\n",
      "Expected label:1 Prediction:  [ True]\n",
      "[118309. 322741. 253355.  54718. 176468. 157111.      0.      0.      0.\n",
      "      0.      0.      0.      0.      0.      0.      0.      0.      0.\n",
      "      0.      0.      0.      0.      0.      0.      0.      0.      0.\n",
      "      0.      0.      0.      0.      0.      0.      0.      0.      0.\n",
      "      0.      0.      0.      0.      0.      0.      0.      0.      0.\n",
      "      0.      0.      0.      0.      0.      0.      0.      0.      0.]\n",
      "34 : Dear Sean Murray and Hello Games\n",
      "Expected label:1 Prediction:  [ True]\n",
      "[132265. 192973. 357266. 390080. 357959. 360915. 173061. 360915. 341678.\n",
      " 383443.      0.      0.      0.      0.      0.      0.      0.      0.\n",
      "      0.      0.      0.      0.      0.      0.      0.      0.      0.\n",
      "      0.      0.      0.      0.      0.      0.      0.      0.      0.\n",
      "      0.      0.      0.      0.      0.      0.      0.      0.      0.\n",
      "      0.      0.      0.      0.      0.      0.      0.      0.      0.]\n",
      "35 : EA is the worst thing to happen to Star Wars\n",
      "Expected label:1 Prediction:  [ True]\n",
      "[132265. 192973. 222484. 366274. 360915. 374163. 357266.  52953. 360915.\n",
      " 150079. 357266. 256745. 127708. 286375. 191811. 357354. 286836.  71090.\n",
      "  89956.  54718. 306507. 270970. 357266. 270201. 260141. 387696.  71090.\n",
      "  44608. 182540. 111389.  54718. 372713. 384374.  58997.      0.      0.\n",
      "      0.      0.      0.      0.      0.      0.      0.      0.      0.\n",
      "      0.      0.      0.      0.      0.      0.      0.      0.      0.]\n",
      "36 : EA is likely trying to use the AMA to flip the narrative dont play into their ploy be calm and respectful or the only news will be about how crazy and unreasonable we are\n",
      "Expected label:1 Prediction:  [ True]\n",
      "[357266. 292794. 185457. 174642. 388711. 357266. 362050. 359515. 225709.\n",
      " 188481.  56280. 192973. 264550. 357266. 129579. 300964. 357266. 302292.\n",
      " 292794. 192973. 357212. 386424. 193716. 148356. 129606. 193716. 146354.\n",
      " 264612. 338995.      0.      0.      0.      0.      0.      0.      0.\n",
      "      0.      0.      0.      0.      0.      0.      0.      0.      0.\n",
      "      0.      0.      0.      0.      0.      0.      0.      0.      0.]\n",
      "37 : The problem I have with the top tier loot in anthem is not the drop rate The real problem is that when it finally drops it feels nothing special\n",
      "Expected label:0 Prediction:  [False]\n",
      "[358160. 345534. 192973. 374177.      0.      0.      0.      0.      0.\n",
      "      0.      0.      0.      0.      0.      0.      0.      0.      0.\n",
      "      0.      0.      0.      0.      0.      0.      0.      0.      0.\n",
      "      0.      0.      0.      0.      0.      0.      0.      0.      0.\n",
      "      0.      0.      0.      0.      0.      0.      0.      0.      0.\n",
      "      0.      0.      0.      0.      0.      0.      0.      0.      0.]\n",
      "40 : This sub is useless\n",
      "Expected label:1 Prediction:  [ True]\n",
      "[332240. 358160. 368118.  88083. 174032. 341886. 106042. 141816. 249714.\n",
      " 189895.      0.      0.      0.      0.      0.      0.      0.      0.\n",
      "      0.      0.      0.      0.      0.      0.      0.      0.      0.\n",
      "      0.      0.      0.      0.      0.      0.      0.      0.      0.\n",
      "      0.      0.      0.      0.      0.      0.      0.      0.      0.\n",
      "      0.      0.      0.      0.      0.      0.      0.      0.      0.]\n",
      "41 : Since this tweet BW has started communicating even more infrequent\n",
      "Expected label:1 Prediction:  [ True]\n",
      "[360915. 292042. 132265. 154323. 400001. 297580. 188481. 357266. 373370.\n",
      "  52953. 357266. 247519. 268046. 358160. 400001. 329916. 111448.  43010.\n",
      " 358522. 151349. 386307. 297580. 384374. 383068.  56162. 289455. 357212.\n",
      " 223628. 386424. 357266.  52953. 163634. 373317. 357412. 119969.  57170.\n",
      " 272583. 105851. 357226. 264550. 193716. 151428. 132265. 360915. 134678.\n",
      " 125876. 357266.  52953. 270970.  56160. 357266. 297580.      0.      0.]\n",
      "43 : To prevent EA from astroturfingplanting questions in the upcoming AMA the mods of this subreddit should create a thread for what questions we want answered post that list when the AMA goes up then delete any other comment thats not it forcing EA to either ditch the AMA or answer the questions\n",
      "Expected label:1 Prediction:  [ True]\n",
      "[394475. 305007.  43010. 157049. 188481. 155017. 209662. 357212. 193919.\n",
      "  43010. 162852. 354594. 120523.  62065. 357266. 390080.  54718.  54273.\n",
      " 371757. 157049.  62065. 193919.  74390.      0.      0.      0.      0.\n",
      "      0.      0.      0.      0.      0.      0.      0.      0.      0.\n",
      "      0.      0.      0.      0.      0.      0.      0.      0.      0.\n",
      "      0.      0.      0.      0.      0.      0.      0.      0.      0.]\n",
      "44 : You released a game in full knowledge that its a glorified tech demo at the worst and an unfinished game at its best\n",
      "Expected label:1 Prediction:  [ True]\n",
      "[207715. 268046. 225979. 254258. 355512. 217787. 261149.  47798. 357266.\n",
      " 373375.      0.      0.      0.      0.      0.      0.      0.      0.\n",
      "      0.      0.      0.      0.      0.      0.      0.      0.      0.\n",
      "      0.      0.      0.      0.      0.      0.      0.      0.      0.\n",
      "      0.      0.      0.      0.      0.      0.      0.      0.      0.\n",
      "      0.      0.      0.      0.      0.      0.      0.      0.      0.]\n",
      "46 : Kind of lost my temper last night after the update\n",
      "Expected label:1 Prediction:  [ True]\n",
      "Test count : 50\n",
      "Error count : 37\n"
     ]
    }
   ],
   "source": [
    "correct_count = 0;\n",
    "for i in range(len(X_test)):\n",
    "    x = X_test_indices\n",
    "    if(Y_pred[i] == Y_test[i]):\n",
    "        print(X_test_indices[i])\n",
    "        correct_count = correct_count + 1\n",
    "        print( str(i) + ' : ' + X_test[i])\n",
    "        print('Expected label:'+ str(Y_test[i]) + ' Prediction: ' + ' ' + str(Y_pred[i]))\n",
    "print('Test count : ' + str(len(X_test)))\n",
    "print('Error count : ' + str(correct_count))\n"
   ]
  },
  {
   "cell_type": "markdown",
   "metadata": {},
   "source": [
    "Let's create a function to visualize the attention weights at the last time-step of the second LSTM layer."
   ]
  },
  {
   "cell_type": "code",
   "execution_count": 43,
   "metadata": {},
   "outputs": [],
   "source": [
    "def plot_attention_map(model, X_test_indices, X_test, n_s = 128, num = 6, Tx = 30):\n",
    "    \"\"\"\n",
    "    Plot the attention map.\n",
    "  \n",
    "    \"\"\"\n",
    "    attention_map = np.zeros((1, Tx))\n",
    "    Ty, Tx = attention_map.shape\n",
    "    \n",
    "    s0 = np.zeros((1, n_s))\n",
    "    c0 = np.zeros((1, n_s))\n",
    "    layer = model.layers[num]\n",
    "    print(layer.name)\n",
    "\n",
    "    f = K.function(model.inputs, [layer.get_output_at(t) for t in range(1)])\n",
    "    r = f([X_test_indices, s0, c0])\n",
    "    \n",
    "    for t in range(1):\n",
    "        for t_prime in range(Tx):\n",
    "            attention_map[t][t_prime] = r[t][0,t_prime,0]\n",
    "            \n",
    "    \n",
    "    print(attention_map)\n",
    "\n",
    "    # Normalize attention map\n",
    "#     row_max = attention_map.max(axis=1)\n",
    "#     attention_map = attention_map / row_max[:, None]\n",
    "\n",
    "    prediction = model.predict([X_test_indices, s0, c0])\n",
    "    \n",
    "    Y_prediction = prediction > threshold\n",
    "    predicted_text = []\n",
    "   # for i in range(len(prediction)):\n",
    "  #      predicted_text.append(int(np.argmax(prediction[i], axis=1)))\n",
    "        \n",
    "    #predicted_text = list(predicted_text)\n",
    "   # predicted_text = int_to_string(predicted_text, inv_output_vocabulary)\n",
    "    text_ = X_test.lower().split()\n",
    "    \n",
    "    # get the lengths of the string\n",
    "    input_length = len(text_)\n",
    "    output_length = Tx\n",
    "    \n",
    "    # Plot the attention_map\n",
    "    plt.clf()\n",
    "    f = plt.figure(figsize=(25, 25.5))\n",
    "    ax = f.add_subplot(1, 1, 1)\n",
    "\n",
    "    # add image\n",
    "    i = ax.imshow(attention_map, interpolation='nearest', cmap='Blues')\n",
    "\n",
    "    # add colorbar\n",
    "    cbaxes = f.add_axes([0.2, 0, 0.6, 0.03])\n",
    "    cbar = f.colorbar(i, cax=cbaxes, orientation='horizontal')\n",
    "    cbar.ax.set_xlabel('Alpha value (Probability output of the \"softmax\")', labelpad=2)\n",
    "\n",
    "    # add labels\n",
    "  #  ax.set_yticks(range(output_length))\n",
    "  #  ax.set_yticklabels(predicted_text[:output_length])\n",
    "\n",
    "    ax.set_xticks(range(input_length))\n",
    "    ax.set_xticklabels(text_[:input_length], rotation='60')\n",
    "\n",
    "    ax.set_xlabel('Input Sequence')\n",
    "    ax.set_ylabel('Output Sequence')\n",
    "\n",
    "    # add grid and legend\n",
    "    ax.grid()\n",
    "\n",
    "    #f.show()\n",
    "    \n",
    "    return attention_map"
   ]
  },
  {
   "cell_type": "code",
   "execution_count": 44,
   "metadata": {},
   "outputs": [
    {
     "name": "stdout",
     "output_type": "stream",
     "text": [
      "attention_weights\n",
      "[[0.00769839 0.01270912 0.022584   0.03538825 0.03264895 0.02746085\n",
      "  0.02200335 0.02269096 0.02587707 0.02616745 0.02334025 0.02811753\n",
      "  0.0291469  0.03028349 0.02689946 0.02245964 0.02875153 0.03037322\n",
      "  0.02669312 0.0324071  0.02416801 0.0212603  0.02024181 0.01361241\n",
      "  0.01350428 0.01346731 0.01343916 0.01342383 0.01341562 0.01341205\n",
      "  0.01341172 0.0134139  0.0134182  0.01342445 0.01343256 0.01344251\n",
      "  0.01345432 0.01346803 0.01348369 0.01350133 0.013521   0.01354271\n",
      "  0.01356648 0.01359231 0.01362018 0.0136501  0.013682   0.0137158\n",
      "  0.01375123 0.01378775 0.01382428 0.01385869 0.01388732 0.013904  ]]\n"
     ]
    },
    {
     "data": {
      "text/plain": [
       "<Figure size 432x288 with 0 Axes>"
      ]
     },
     "metadata": {},
     "output_type": "display_data"
    },
    {
     "data": {
      "image/png": "[encoded data removed]",
      "text/plain": [
       "<Figure size 1800x1836 with 2 Axes>"
      ]
     },
     "metadata": {
      "needs_background": "light"
     },
     "output_type": "display_data"
    }
   ],
   "source": [
    "attention_map = plot_attention_map(model, X_test_indices[44].reshape(1,54), X_test[44], n_s = 128, num = 8, Tx = Tx)"
   ]
  },
  {
   "cell_type": "code",
   "execution_count": null,
   "metadata": {},
   "outputs": [],
   "source": [
    "# serialize model to JSON\n",
    "model_json = model.to_json()\n",
    "with open(\"../models/model.json\", \"w\") as json_file:\n",
    "    print('works')\n",
    "    json_file.write(model_json)\n",
    "# serialize weights to HDF5\n",
    "model.save_weights(\"../models/model.h5\")\n",
    "print(\"Saved model to disk\")"
   ]
  },
  {
   "cell_type": "code",
   "execution_count": null,
   "metadata": {},
   "outputs": [],
   "source": [
    "coreml_model = coremltools.converters.keras.convert(model)"
   ]
  },
  {
   "cell_type": "code",
   "execution_count": null,
   "metadata": {},
   "outputs": [],
   "source": [
    "coreml_model.save('../models/CommentNetV2.mlmodel')"
   ]
  },
  {
   "cell_type": "code",
   "execution_count": null,
   "metadata": {},
   "outputs": [],
   "source": [
    "print(coreml_model)"
   ]
  },
  {
   "cell_type": "code",
   "execution_count": null,
   "metadata": {},
   "outputs": [],
   "source": [
    "Sisira Dabare"
   ]
  }
 ],
 "metadata": {
  "kernelspec": {
   "display_name": "Python 3",
   "language": "python",
   "name": "python3"
  },
  "language_info": {
   "codemirror_mode": {
    "name": "ipython",
    "version": 3
   },
   "file_extension": ".py",
   "mimetype": "text/x-python",
   "name": "python",
   "nbconvert_exporter": "python",
   "pygments_lexer": "ipython3",
   "version": "3.7.3"
  }
 },
 "nbformat": 4,
 "nbformat_minor": 2
}
